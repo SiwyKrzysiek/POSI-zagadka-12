{
 "cells": [
  {
   "cell_type": "markdown",
   "metadata": {
    "ExecuteTime": {
     "end_time": "2020-05-20T19:33:03.661244Z",
     "start_time": "2020-05-20T19:33:03.653514Z"
    }
   },
   "source": [
    "# Symulacja zagadki o śmierci i cukierkach\n",
    "\n",
    "Pan Nowak ma 100 cukierków zatrutych oraz 100 cukierków niezatrutych (identyczne)\n",
    "Jak powinien ilościowo rozłożyć te cukierki na 2 tackach aby gdy poczęstuje 1 cukierkiem\n",
    "do wyboru z 2 tacek śmierć, która go za godzinę odwiedzi, zmaksymalizować szanse swojego przezycia - jeśli śmierć zje zatruty to umrze a Nowak ocaleje."
   ]
  },
  {
   "cell_type": "markdown",
   "metadata": {},
   "source": [
    "Planuję przeprowadzić symulację wyborów dla różnych rozkładów cukierków i zbadać prawdopodobiestkow wygranej (śmierci śmierci)"
   ]
  },
  {
   "cell_type": "code",
   "execution_count": 107,
   "metadata": {
    "ExecuteTime": {
     "end_time": "2020-05-20T20:30:32.883347Z",
     "start_time": "2020-05-20T20:30:32.879434Z"
    }
   },
   "outputs": [],
   "source": [
    "import plotly.graph_objects as go\n",
    "import numpy as np\n",
    "import pandas as pd\n",
    "import random\n",
    "from itertools import product\n",
    "from collections import namedtuple"
   ]
  },
  {
   "cell_type": "code",
   "execution_count": 94,
   "metadata": {
    "ExecuteTime": {
     "end_time": "2020-05-20T20:28:19.028483Z",
     "start_time": "2020-05-20T20:28:19.024898Z"
    }
   },
   "outputs": [],
   "source": [
    "def taste(left_plate, right_plate) -> bool:\n",
    "    plate_id = random.randrange(2)\n",
    "    plate = left_plate if plate_id == 0 else right_plate\n",
    "    sweets = sum(plate)\n",
    "    if sweets == 0: # If empty take from the other plate\n",
    "        plate_id = (plate_id + 1) % 2\n",
    "        plate = left_plate if plate_id == 0 else right_plate\n",
    "        sweets = sum(plate)\n",
    "    # Assume that first sweets are deadly\n",
    "    death_ods = plate[0] / sweets\n",
    "    choice = random.random()\n",
    "    return choice < death_ods"
   ]
  },
  {
   "cell_type": "code",
   "execution_count": 95,
   "metadata": {
    "ExecuteTime": {
     "end_time": "2020-05-20T20:28:20.034259Z",
     "start_time": "2020-05-20T20:28:20.030000Z"
    }
   },
   "outputs": [
    {
     "data": {
      "text/plain": [
       "True"
      ]
     },
     "execution_count": 95,
     "metadata": {},
     "output_type": "execute_result"
    }
   ],
   "source": [
    "taste((2, 4), (8, 6))"
   ]
  },
  {
   "cell_type": "code",
   "execution_count": 96,
   "metadata": {
    "ExecuteTime": {
     "end_time": "2020-05-20T20:28:21.964599Z",
     "start_time": "2020-05-20T20:28:21.960560Z"
    }
   },
   "outputs": [],
   "source": [
    "def simulate(left_plate, right_plate, iterations = 100000) -> float:\n",
    "    total = sum(taste(left_plate, right_plate) for _ in range(iterations))\n",
    "    return total / iterations"
   ]
  },
  {
   "cell_type": "code",
   "execution_count": 97,
   "metadata": {
    "ExecuteTime": {
     "end_time": "2020-05-20T20:28:23.752604Z",
     "start_time": "2020-05-20T20:28:23.588287Z"
    }
   },
   "outputs": [
    {
     "data": {
      "text/plain": [
       "0.49727"
      ]
     },
     "execution_count": 97,
     "metadata": {},
     "output_type": "execute_result"
    }
   ],
   "source": [
    "simulate((2, 2), (8, 8))"
   ]
  },
  {
   "cell_type": "code",
   "execution_count": 98,
   "metadata": {
    "ExecuteTime": {
     "end_time": "2020-05-20T20:28:24.938960Z",
     "start_time": "2020-05-20T20:28:24.817749Z"
    }
   },
   "outputs": [
    {
     "data": {
      "text/plain": [
       "0.45102"
      ]
     },
     "execution_count": 98,
     "metadata": {},
     "output_type": "execute_result"
    }
   ],
   "source": [
    "simulate((2, 4), (8, 6))"
   ]
  },
  {
   "cell_type": "code",
   "execution_count": 104,
   "metadata": {
    "ExecuteTime": {
     "end_time": "2020-05-20T20:28:30.929185Z",
     "start_time": "2020-05-20T20:28:30.800027Z"
    }
   },
   "outputs": [
    {
     "data": {
      "text/plain": [
       "0.50203"
      ]
     },
     "execution_count": 104,
     "metadata": {},
     "output_type": "execute_result"
    }
   ],
   "source": [
    "simulate((0, 0), (10, 10))"
   ]
  },
  {
   "cell_type": "code",
   "execution_count": 106,
   "metadata": {
    "ExecuteTime": {
     "end_time": "2020-05-20T20:29:25.523687Z",
     "start_time": "2020-05-20T20:29:25.517817Z"
    },
    "scrolled": true
   },
   "outputs": [
    {
     "name": "stdout",
     "output_type": "stream",
     "text": [
      "(0, 0) <-> (10, 10)\n",
      "(0, 1) <-> (10, 9)\n",
      "(0, 2) <-> (10, 8)\n",
      "(0, 3) <-> (10, 7)\n",
      "(0, 4) <-> (10, 6)\n",
      "(0, 5) <-> (10, 5)\n",
      "(0, 6) <-> (10, 4)\n",
      "(0, 7) <-> (10, 3)\n",
      "(0, 8) <-> (10, 2)\n",
      "(0, 9) <-> (10, 1)\n",
      "(0, 10) <-> (10, 0)\n",
      "(1, 0) <-> (9, 10)\n",
      "(1, 1) <-> (9, 9)\n",
      "(1, 2) <-> (9, 8)\n",
      "(1, 3) <-> (9, 7)\n",
      "(1, 4) <-> (9, 6)\n",
      "(1, 5) <-> (9, 5)\n",
      "(1, 6) <-> (9, 4)\n",
      "(1, 7) <-> (9, 3)\n",
      "(1, 8) <-> (9, 2)\n",
      "(1, 9) <-> (9, 1)\n",
      "(1, 10) <-> (9, 0)\n",
      "(2, 0) <-> (8, 10)\n",
      "(2, 1) <-> (8, 9)\n",
      "(2, 2) <-> (8, 8)\n",
      "(2, 3) <-> (8, 7)\n",
      "(2, 4) <-> (8, 6)\n",
      "(2, 5) <-> (8, 5)\n",
      "(2, 6) <-> (8, 4)\n",
      "(2, 7) <-> (8, 3)\n",
      "(2, 8) <-> (8, 2)\n",
      "(2, 9) <-> (8, 1)\n",
      "(2, 10) <-> (8, 0)\n",
      "(3, 0) <-> (7, 10)\n",
      "(3, 1) <-> (7, 9)\n",
      "(3, 2) <-> (7, 8)\n",
      "(3, 3) <-> (7, 7)\n",
      "(3, 4) <-> (7, 6)\n",
      "(3, 5) <-> (7, 5)\n",
      "(3, 6) <-> (7, 4)\n",
      "(3, 7) <-> (7, 3)\n",
      "(3, 8) <-> (7, 2)\n",
      "(3, 9) <-> (7, 1)\n",
      "(3, 10) <-> (7, 0)\n",
      "(4, 0) <-> (6, 10)\n",
      "(4, 1) <-> (6, 9)\n",
      "(4, 2) <-> (6, 8)\n",
      "(4, 3) <-> (6, 7)\n",
      "(4, 4) <-> (6, 6)\n",
      "(4, 5) <-> (6, 5)\n",
      "(4, 6) <-> (6, 4)\n",
      "(4, 7) <-> (6, 3)\n",
      "(4, 8) <-> (6, 2)\n",
      "(4, 9) <-> (6, 1)\n",
      "(4, 10) <-> (6, 0)\n",
      "(5, 0) <-> (5, 10)\n",
      "(5, 1) <-> (5, 9)\n",
      "(5, 2) <-> (5, 8)\n",
      "(5, 3) <-> (5, 7)\n",
      "(5, 4) <-> (5, 6)\n",
      "(5, 5) <-> (5, 5)\n",
      "(5, 6) <-> (5, 4)\n",
      "(5, 7) <-> (5, 3)\n",
      "(5, 8) <-> (5, 2)\n",
      "(5, 9) <-> (5, 1)\n",
      "(5, 10) <-> (5, 0)\n"
     ]
    }
   ],
   "source": [
    "# Test plate generation\n",
    "sweets_count = 10\n",
    "\n",
    "for left_plate in product(range(0, sweets_count//2+1), range(0, sweets_count+1)):\n",
    "    right_plate = tuple(sweets_count - i for i in left_plate)\n",
    "    print(f'{left_plate} <-> {right_plate}')"
   ]
  },
  {
   "cell_type": "code",
   "execution_count": 111,
   "metadata": {
    "ExecuteTime": {
     "end_time": "2020-05-20T20:34:34.713097Z",
     "start_time": "2020-05-20T20:34:27.829194Z"
    }
   },
   "outputs": [],
   "source": [
    "sweets_count = 10\n",
    "\n",
    "Result = namedtuple('Result', 'probability left_plate right_plate')\n",
    "results = []\n",
    "for left_plate in product(range(0, sweets_count//2+1), range(0, sweets_count+1)):\n",
    "    right_plate = tuple(sweets_count - i for i in left_plate)\n",
    "    \n",
    "    probability = simulate(left_plate, right_plate)\n",
    "    results.append(Result(probability, left_plate, right_plate))"
   ]
  },
  {
   "cell_type": "code",
   "execution_count": 120,
   "metadata": {
    "ExecuteTime": {
     "end_time": "2020-05-20T20:38:47.476939Z",
     "start_time": "2020-05-20T20:38:47.471416Z"
    }
   },
   "outputs": [
    {
     "name": "stdout",
     "output_type": "stream",
     "text": [
      "0.73556: (1, 0) <-> (9, 10)\n",
      "0.72207: (2, 0) <-> (8, 10)\n",
      "0.70499: (3, 0) <-> (7, 10)\n",
      "0.68704: (4, 0) <-> (6, 10)\n",
      "0.66783: (5, 10) <-> (5, 0)\n",
      "0.66722: (5, 0) <-> (5, 10)\n",
      "0.64221: (4, 10) <-> (6, 0)\n",
      "0.61677: (3, 10) <-> (7, 0)\n",
      "0.60182: (4, 1) <-> (6, 9)\n",
      "0.59675: (5, 1) <-> (5, 9)\n",
      "0.594: (5, 9) <-> (5, 1)\n",
      "0.59382: (3, 1) <-> (7, 9)\n",
      "0.58433: (2, 10) <-> (8, 0)\n",
      "0.58161: (4, 9) <-> (6, 1)\n",
      "0.56361: (2, 1) <-> (8, 9)\n",
      "0.56298: (3, 9) <-> (7, 1)\n",
      "0.5525: (5, 8) <-> (5, 2)\n",
      "0.5504: (5, 2) <-> (5, 8)\n",
      "0.54644: (4, 2) <-> (6, 8)\n",
      "0.5443: (1, 10) <-> (9, 0)\n",
      "0.54098: (4, 8) <-> (6, 2)\n",
      "0.53775: (2, 9) <-> (8, 1)\n",
      "0.53188: (3, 2) <-> (7, 8)\n",
      "0.52604: (3, 8) <-> (7, 2)\n",
      "0.5219: (5, 3) <-> (5, 7)\n",
      "0.52039: (5, 7) <-> (5, 3)\n",
      "0.51554: (4, 3) <-> (6, 7)\n",
      "0.51394: (4, 7) <-> (6, 3)\n",
      "0.50738: (5, 6) <-> (5, 4)\n",
      "0.50489: (5, 4) <-> (5, 6)\n",
      "0.50246: (5, 5) <-> (5, 5)\n",
      "0.5018: (2, 8) <-> (8, 2)\n",
      "0.50148: (3, 3) <-> (7, 7)\n",
      "0.50111: (4, 6) <-> (6, 4)\n",
      "0.50043: (2, 2) <-> (8, 8)\n",
      "0.50008: (0, 10) <-> (10, 0)\n",
      "0.49951: (3, 7) <-> (7, 3)\n",
      "0.49929: (0, 0) <-> (10, 10)\n",
      "0.49902: (4, 4) <-> (6, 6)\n",
      "0.49874: (1, 9) <-> (9, 1)\n",
      "0.49823: (1, 1) <-> (9, 9)\n",
      "0.49386: (4, 5) <-> (6, 5)\n",
      "0.482: (3, 4) <-> (7, 6)\n",
      "0.48058: (3, 6) <-> (7, 4)\n",
      "0.47888: (3, 5) <-> (7, 5)\n",
      "0.47609: (2, 7) <-> (8, 3)\n",
      "0.46736: (2, 3) <-> (8, 7)\n",
      "0.46441: (1, 8) <-> (9, 2)\n",
      "0.4592: (2, 6) <-> (8, 4)\n",
      "0.45562: (0, 9) <-> (10, 1)\n",
      "0.45189: (2, 4) <-> (8, 6)\n",
      "0.45083: (2, 5) <-> (8, 5)\n",
      "0.44057: (1, 7) <-> (9, 3)\n",
      "0.43318: (1, 2) <-> (9, 8)\n",
      "0.41966: (0, 8) <-> (10, 2)\n",
      "0.4187: (1, 6) <-> (9, 4)\n",
      "0.40861: (1, 3) <-> (9, 7)\n",
      "0.40591: (1, 5) <-> (9, 5)\n",
      "0.39915: (1, 4) <-> (9, 6)\n",
      "0.38733: (0, 7) <-> (10, 3)\n",
      "0.35903: (0, 6) <-> (10, 4)\n",
      "0.33282: (0, 5) <-> (10, 5)\n",
      "0.31092: (0, 4) <-> (10, 6)\n",
      "0.29206: (0, 3) <-> (10, 7)\n",
      "0.27679: (0, 2) <-> (10, 8)\n",
      "0.2614: (0, 1) <-> (10, 9)\n"
     ]
    }
   ],
   "source": [
    "for result in sorted(results, key=lambda x: x[0], reverse=True):\n",
    "    print(f'{result[0]}: {result[1]} <-> {result[2]}')"
   ]
  }
 ],
 "metadata": {
  "kernelspec": {
   "display_name": "Python 3",
   "language": "python",
   "name": "python3"
  },
  "language_info": {
   "codemirror_mode": {
    "name": "ipython",
    "version": 3
   },
   "file_extension": ".py",
   "mimetype": "text/x-python",
   "name": "python",
   "nbconvert_exporter": "python",
   "pygments_lexer": "ipython3",
   "version": "3.7.5"
  },
  "toc": {
   "base_numbering": 1,
   "nav_menu": {},
   "number_sections": false,
   "sideBar": true,
   "skip_h1_title": false,
   "title_cell": "Table of Contents",
   "title_sidebar": "Contents",
   "toc_cell": false,
   "toc_position": {},
   "toc_section_display": true,
   "toc_window_display": false
  },
  "varInspector": {
   "cols": {
    "lenName": 16,
    "lenType": 16,
    "lenVar": 40
   },
   "kernels_config": {
    "python": {
     "delete_cmd_postfix": "",
     "delete_cmd_prefix": "del ",
     "library": "var_list.py",
     "varRefreshCmd": "print(var_dic_list())"
    },
    "r": {
     "delete_cmd_postfix": ") ",
     "delete_cmd_prefix": "rm(",
     "library": "var_list.r",
     "varRefreshCmd": "cat(var_dic_list()) "
    }
   },
   "types_to_exclude": [
    "module",
    "function",
    "builtin_function_or_method",
    "instance",
    "_Feature"
   ],
   "window_display": false
  }
 },
 "nbformat": 4,
 "nbformat_minor": 2
}
