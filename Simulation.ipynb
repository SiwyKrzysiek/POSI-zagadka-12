{
 "cells": [
  {
   "cell_type": "markdown",
   "metadata": {
    "ExecuteTime": {
     "end_time": "2020-05-20T19:33:03.661244Z",
     "start_time": "2020-05-20T19:33:03.653514Z"
    }
   },
   "source": [
    "# Symulacja zagadki o śmierci i cukierkach\n",
    "\n",
    "Pan Nowak ma 100 cukierków zatrutych oraz 100 cukierków niezatrutych (identyczne)\n",
    "Jak powinien ilościowo rozłożyć te cukierki na 2 tackach aby gdy poczęstuje 1 cukierkiem\n",
    "do wyboru z 2 tacek śmierć, która go za godzinę odwiedzi, zmaksymalizować szanse swojego przezycia - jeśli śmierć zje zatruty to umrze a Nowak ocaleje."
   ]
  },
  {
   "cell_type": "markdown",
   "metadata": {},
   "source": [
    "Planuję przeprowadzić symulację wyborów dla różnych rozkładów cukierków i zbadać prawdopodobiestkow wygranej (śmierci śmierci)"
   ]
  },
  {
   "cell_type": "code",
   "execution_count": 19,
   "metadata": {
    "ExecuteTime": {
     "end_time": "2020-05-20T19:49:01.719610Z",
     "start_time": "2020-05-20T19:49:01.717068Z"
    }
   },
   "outputs": [],
   "source": [
    "import plotly.graph_objects as go\n",
    "import numpy as np\n",
    "import pandas as pd\n",
    "import random\n",
    "from itertools import product\n",
    "from typing import Tuple"
   ]
  },
  {
   "cell_type": "code",
   "execution_count": 36,
   "metadata": {
    "ExecuteTime": {
     "end_time": "2020-05-20T19:56:52.077338Z",
     "start_time": "2020-05-20T19:56:52.073929Z"
    }
   },
   "outputs": [],
   "source": [
    "def taste(left_plate, right_plate) -> bool:\n",
    "    plate = random.choice((left_plate, right_plate))\n",
    "    sweets = sum(plate)\n",
    "    # Assume that first sweets are deadly\n",
    "    death_ods = plate[0] / sweets\n",
    "    choice = random.random()\n",
    "    return choice < death_ods"
   ]
  },
  {
   "cell_type": "code",
   "execution_count": 70,
   "metadata": {
    "ExecuteTime": {
     "end_time": "2020-05-20T20:08:04.733698Z",
     "start_time": "2020-05-20T20:08:04.729781Z"
    }
   },
   "outputs": [
    {
     "data": {
      "text/plain": [
       "True"
      ]
     },
     "execution_count": 70,
     "metadata": {},
     "output_type": "execute_result"
    }
   ],
   "source": [
    "taste((2, 4), (8, 6))"
   ]
  },
  {
   "cell_type": "code",
   "execution_count": 76,
   "metadata": {
    "ExecuteTime": {
     "end_time": "2020-05-20T20:08:26.447201Z",
     "start_time": "2020-05-20T20:08:26.443437Z"
    }
   },
   "outputs": [],
   "source": [
    "def simulate(left_plate, right_plate, iterations = 100000) -> float:\n",
    "    total = sum(taste(left_plate, right_plate) for _ in range(iterations))\n",
    "    return total / iterations"
   ]
  },
  {
   "cell_type": "code",
   "execution_count": 79,
   "metadata": {
    "ExecuteTime": {
     "end_time": "2020-05-20T20:08:35.658982Z",
     "start_time": "2020-05-20T20:08:35.551667Z"
    }
   },
   "outputs": [
    {
     "data": {
      "text/plain": [
       "0.50102"
      ]
     },
     "execution_count": 79,
     "metadata": {},
     "output_type": "execute_result"
    }
   ],
   "source": [
    "simulate((2, 2), (8, 8))"
   ]
  },
  {
   "cell_type": "code",
   "execution_count": 80,
   "metadata": {
    "ExecuteTime": {
     "end_time": "2020-05-20T20:08:36.370286Z",
     "start_time": "2020-05-20T20:08:36.265132Z"
    }
   },
   "outputs": [
    {
     "data": {
      "text/plain": [
       "0.45008"
      ]
     },
     "execution_count": 80,
     "metadata": {},
     "output_type": "execute_result"
    }
   ],
   "source": [
    "simulate((2, 4), (8, 6))"
   ]
  },
  {
   "cell_type": "code",
   "execution_count": 17,
   "metadata": {
    "ExecuteTime": {
     "end_time": "2020-05-20T19:45:53.393431Z",
     "start_time": "2020-05-20T19:45:53.386510Z"
    }
   },
   "outputs": [
    {
     "name": "stdout",
     "output_type": "stream",
     "text": [
      "(0, 0) <-> (10, 10)\n",
      "(0, 1) <-> (10, 9)\n",
      "(0, 2) <-> (10, 8)\n",
      "(0, 3) <-> (10, 7)\n",
      "(0, 4) <-> (10, 6)\n",
      "(0, 5) <-> (10, 5)\n",
      "(0, 6) <-> (10, 4)\n",
      "(0, 7) <-> (10, 3)\n",
      "(0, 8) <-> (10, 2)\n",
      "(0, 9) <-> (10, 1)\n",
      "(0, 10) <-> (10, 0)\n",
      "(1, 0) <-> (9, 10)\n",
      "(1, 1) <-> (9, 9)\n",
      "(1, 2) <-> (9, 8)\n",
      "(1, 3) <-> (9, 7)\n",
      "(1, 4) <-> (9, 6)\n",
      "(1, 5) <-> (9, 5)\n",
      "(1, 6) <-> (9, 4)\n",
      "(1, 7) <-> (9, 3)\n",
      "(1, 8) <-> (9, 2)\n",
      "(1, 9) <-> (9, 1)\n",
      "(1, 10) <-> (9, 0)\n",
      "(2, 0) <-> (8, 10)\n",
      "(2, 1) <-> (8, 9)\n",
      "(2, 2) <-> (8, 8)\n",
      "(2, 3) <-> (8, 7)\n",
      "(2, 4) <-> (8, 6)\n",
      "(2, 5) <-> (8, 5)\n",
      "(2, 6) <-> (8, 4)\n",
      "(2, 7) <-> (8, 3)\n",
      "(2, 8) <-> (8, 2)\n",
      "(2, 9) <-> (8, 1)\n",
      "(2, 10) <-> (8, 0)\n",
      "(3, 0) <-> (7, 10)\n",
      "(3, 1) <-> (7, 9)\n",
      "(3, 2) <-> (7, 8)\n",
      "(3, 3) <-> (7, 7)\n",
      "(3, 4) <-> (7, 6)\n",
      "(3, 5) <-> (7, 5)\n",
      "(3, 6) <-> (7, 4)\n",
      "(3, 7) <-> (7, 3)\n",
      "(3, 8) <-> (7, 2)\n",
      "(3, 9) <-> (7, 1)\n",
      "(3, 10) <-> (7, 0)\n",
      "(4, 0) <-> (6, 10)\n",
      "(4, 1) <-> (6, 9)\n",
      "(4, 2) <-> (6, 8)\n",
      "(4, 3) <-> (6, 7)\n",
      "(4, 4) <-> (6, 6)\n",
      "(4, 5) <-> (6, 5)\n",
      "(4, 6) <-> (6, 4)\n",
      "(4, 7) <-> (6, 3)\n",
      "(4, 8) <-> (6, 2)\n",
      "(4, 9) <-> (6, 1)\n",
      "(4, 10) <-> (6, 0)\n",
      "(5, 0) <-> (5, 10)\n",
      "(5, 1) <-> (5, 9)\n",
      "(5, 2) <-> (5, 8)\n",
      "(5, 3) <-> (5, 7)\n",
      "(5, 4) <-> (5, 6)\n",
      "(5, 5) <-> (5, 5)\n",
      "(5, 6) <-> (5, 4)\n",
      "(5, 7) <-> (5, 3)\n",
      "(5, 8) <-> (5, 2)\n",
      "(5, 9) <-> (5, 1)\n",
      "(5, 10) <-> (5, 0)\n",
      "(6, 0) <-> (4, 10)\n",
      "(6, 1) <-> (4, 9)\n",
      "(6, 2) <-> (4, 8)\n",
      "(6, 3) <-> (4, 7)\n",
      "(6, 4) <-> (4, 6)\n",
      "(6, 5) <-> (4, 5)\n",
      "(6, 6) <-> (4, 4)\n",
      "(6, 7) <-> (4, 3)\n",
      "(6, 8) <-> (4, 2)\n",
      "(6, 9) <-> (4, 1)\n",
      "(6, 10) <-> (4, 0)\n",
      "(7, 0) <-> (3, 10)\n",
      "(7, 1) <-> (3, 9)\n",
      "(7, 2) <-> (3, 8)\n",
      "(7, 3) <-> (3, 7)\n",
      "(7, 4) <-> (3, 6)\n",
      "(7, 5) <-> (3, 5)\n",
      "(7, 6) <-> (3, 4)\n",
      "(7, 7) <-> (3, 3)\n",
      "(7, 8) <-> (3, 2)\n",
      "(7, 9) <-> (3, 1)\n",
      "(7, 10) <-> (3, 0)\n",
      "(8, 0) <-> (2, 10)\n",
      "(8, 1) <-> (2, 9)\n",
      "(8, 2) <-> (2, 8)\n",
      "(8, 3) <-> (2, 7)\n",
      "(8, 4) <-> (2, 6)\n",
      "(8, 5) <-> (2, 5)\n",
      "(8, 6) <-> (2, 4)\n",
      "(8, 7) <-> (2, 3)\n",
      "(8, 8) <-> (2, 2)\n",
      "(8, 9) <-> (2, 1)\n",
      "(8, 10) <-> (2, 0)\n",
      "(9, 0) <-> (1, 10)\n",
      "(9, 1) <-> (1, 9)\n",
      "(9, 2) <-> (1, 8)\n",
      "(9, 3) <-> (1, 7)\n",
      "(9, 4) <-> (1, 6)\n",
      "(9, 5) <-> (1, 5)\n",
      "(9, 6) <-> (1, 4)\n",
      "(9, 7) <-> (1, 3)\n",
      "(9, 8) <-> (1, 2)\n",
      "(9, 9) <-> (1, 1)\n",
      "(9, 10) <-> (1, 0)\n",
      "(10, 0) <-> (0, 10)\n",
      "(10, 1) <-> (0, 9)\n",
      "(10, 2) <-> (0, 8)\n",
      "(10, 3) <-> (0, 7)\n",
      "(10, 4) <-> (0, 6)\n",
      "(10, 5) <-> (0, 5)\n",
      "(10, 6) <-> (0, 4)\n",
      "(10, 7) <-> (0, 3)\n",
      "(10, 8) <-> (0, 2)\n",
      "(10, 9) <-> (0, 1)\n",
      "(10, 10) <-> (0, 0)\n"
     ]
    }
   ],
   "source": [
    "sweets_count = 10\n",
    "\n",
    "for left_plate in product(range(0, sweets_count+1), repeat=2):\n",
    "    right_plate = tuple(sweets_count - i for i in left_plate)\n",
    "    print(f'{left_plate} <-> {right_plate}')"
   ]
  },
  {
   "cell_type": "code",
   "execution_count": 16,
   "metadata": {
    "ExecuteTime": {
     "end_time": "2020-05-20T19:44:31.467419Z",
     "start_time": "2020-05-20T19:44:31.458554Z"
    }
   },
   "outputs": [
    {
     "ename": "TypeError",
     "evalue": "unsupported operand type(s) for -: 'tuple' and 'int'",
     "output_type": "error",
     "traceback": [
      "\u001b[0;31m---------------------------------------------------------------------------\u001b[0m",
      "\u001b[0;31mTypeError\u001b[0m                                 Traceback (most recent call last)",
      "\u001b[0;32m<ipython-input-16-964e0005b40b>\u001b[0m in \u001b[0;36m<module>\u001b[0;34m\u001b[0m\n\u001b[0;32m----> 1\u001b[0;31m \u001b[0;34m(\u001b[0m\u001b[0;36m2\u001b[0m\u001b[0;34m,\u001b[0m \u001b[0;36m1\u001b[0m\u001b[0;34m)\u001b[0m \u001b[0;34m-\u001b[0m \u001b[0;36m1\u001b[0m\u001b[0;34m\u001b[0m\u001b[0;34m\u001b[0m\u001b[0m\n\u001b[0m",
      "\u001b[0;31mTypeError\u001b[0m: unsupported operand type(s) for -: 'tuple' and 'int'"
     ]
    }
   ],
   "source": []
  }
 ],
 "metadata": {
  "kernelspec": {
   "display_name": "Python 3",
   "language": "python",
   "name": "python3"
  },
  "language_info": {
   "codemirror_mode": {
    "name": "ipython",
    "version": 3
   },
   "file_extension": ".py",
   "mimetype": "text/x-python",
   "name": "python",
   "nbconvert_exporter": "python",
   "pygments_lexer": "ipython3",
   "version": "3.7.5"
  },
  "toc": {
   "base_numbering": 1,
   "nav_menu": {},
   "number_sections": false,
   "sideBar": true,
   "skip_h1_title": false,
   "title_cell": "Table of Contents",
   "title_sidebar": "Contents",
   "toc_cell": false,
   "toc_position": {},
   "toc_section_display": true,
   "toc_window_display": false
  },
  "varInspector": {
   "cols": {
    "lenName": 16,
    "lenType": 16,
    "lenVar": 40
   },
   "kernels_config": {
    "python": {
     "delete_cmd_postfix": "",
     "delete_cmd_prefix": "del ",
     "library": "var_list.py",
     "varRefreshCmd": "print(var_dic_list())"
    },
    "r": {
     "delete_cmd_postfix": ") ",
     "delete_cmd_prefix": "rm(",
     "library": "var_list.r",
     "varRefreshCmd": "cat(var_dic_list()) "
    }
   },
   "types_to_exclude": [
    "module",
    "function",
    "builtin_function_or_method",
    "instance",
    "_Feature"
   ],
   "window_display": false
  }
 },
 "nbformat": 4,
 "nbformat_minor": 2
}
